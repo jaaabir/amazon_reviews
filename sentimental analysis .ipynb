{
 "cells": [
  {
   "cell_type": "code",
   "execution_count": 185,
   "metadata": {},
   "outputs": [],
   "source": [
    "import pandas as pd \n",
    "import numpy as np \n",
    "import seaborn as sns \n",
    "from vaderSentiment.vaderSentiment import SentimentIntensityAnalyzer"
   ]
  },
  {
   "cell_type": "code",
   "execution_count": 186,
   "metadata": {},
   "outputs": [
    {
     "data": {
      "text/html": [
       "<div>\n",
       "<style scoped>\n",
       "    .dataframe tbody tr th:only-of-type {\n",
       "        vertical-align: middle;\n",
       "    }\n",
       "\n",
       "    .dataframe tbody tr th {\n",
       "        vertical-align: top;\n",
       "    }\n",
       "\n",
       "    .dataframe thead th {\n",
       "        text-align: right;\n",
       "    }\n",
       "</style>\n",
       "<table border=\"1\" class=\"dataframe\">\n",
       "  <thead>\n",
       "    <tr style=\"text-align: right;\">\n",
       "      <th></th>\n",
       "      <th>product_name</th>\n",
       "      <th>product_category</th>\n",
       "      <th>reviews</th>\n",
       "    </tr>\n",
       "  </thead>\n",
       "  <tbody>\n",
       "    <tr>\n",
       "      <td>0</td>\n",
       "      <td>ASUS-15-6-inch-i5-10300H-SSDWindows-FX566LH-BQ...</td>\n",
       "      <td>laptop</td>\n",
       "      <td>Your browser does not support HTML5 video.  I ...</td>\n",
       "    </tr>\n",
       "    <tr>\n",
       "      <td>1</td>\n",
       "      <td>ASUS-15-6-inch-i5-10300H-SSDWindows-FX566LH-BQ...</td>\n",
       "      <td>laptop</td>\n",
       "      <td>OVERALL BANG FOR BUCK......BEST VFM Display :-...</td>\n",
       "    </tr>\n",
       "    <tr>\n",
       "      <td>2</td>\n",
       "      <td>ASUS-15-6-inch-i5-10300H-SSDWindows-FX566LH-BQ...</td>\n",
       "      <td>laptop</td>\n",
       "      <td>Spec - 4/5 Build- 4/5 Display-4/5 Overall it’s...</td>\n",
       "    </tr>\n",
       "    <tr>\n",
       "      <td>3</td>\n",
       "      <td>ASUS-15-6-inch-i5-10300H-SSDWindows-FX566LH-BQ...</td>\n",
       "      <td>laptop</td>\n",
       "      <td>1 Star for Amazon packaging, and 5 Star for pr...</td>\n",
       "    </tr>\n",
       "    <tr>\n",
       "      <td>4</td>\n",
       "      <td>ASUS-15-6-inch-i5-10300H-SSDWindows-FX566LH-BQ...</td>\n",
       "      <td>laptop</td>\n",
       "      <td>Your browser does not support HTML5 video.  I ...</td>\n",
       "    </tr>\n",
       "  </tbody>\n",
       "</table>\n",
       "</div>"
      ],
      "text/plain": [
       "                                        product_name product_category  \\\n",
       "0  ASUS-15-6-inch-i5-10300H-SSDWindows-FX566LH-BQ...           laptop   \n",
       "1  ASUS-15-6-inch-i5-10300H-SSDWindows-FX566LH-BQ...           laptop   \n",
       "2  ASUS-15-6-inch-i5-10300H-SSDWindows-FX566LH-BQ...           laptop   \n",
       "3  ASUS-15-6-inch-i5-10300H-SSDWindows-FX566LH-BQ...           laptop   \n",
       "4  ASUS-15-6-inch-i5-10300H-SSDWindows-FX566LH-BQ...           laptop   \n",
       "\n",
       "                                             reviews  \n",
       "0  Your browser does not support HTML5 video.  I ...  \n",
       "1  OVERALL BANG FOR BUCK......BEST VFM Display :-...  \n",
       "2  Spec - 4/5 Build- 4/5 Display-4/5 Overall it’s...  \n",
       "3  1 Star for Amazon packaging, and 5 Star for pr...  \n",
       "4  Your browser does not support HTML5 video.  I ...  "
      ]
     },
     "execution_count": 186,
     "metadata": {},
     "output_type": "execute_result"
    }
   ],
   "source": [
    "pd.options.display.max_columns = None\n",
    "df = pd.read_csv('amazon_reviews.csv')\n",
    "df.head()"
   ]
  },
  {
   "cell_type": "code",
   "execution_count": 187,
   "metadata": {},
   "outputs": [
    {
     "data": {
      "text/html": [
       "<div>\n",
       "<style scoped>\n",
       "    .dataframe tbody tr th:only-of-type {\n",
       "        vertical-align: middle;\n",
       "    }\n",
       "\n",
       "    .dataframe tbody tr th {\n",
       "        vertical-align: top;\n",
       "    }\n",
       "\n",
       "    .dataframe thead th {\n",
       "        text-align: right;\n",
       "    }\n",
       "</style>\n",
       "<table border=\"1\" class=\"dataframe\">\n",
       "  <thead>\n",
       "    <tr style=\"text-align: right;\">\n",
       "      <th></th>\n",
       "      <th>product_name</th>\n",
       "      <th>product_category</th>\n",
       "      <th>reviews</th>\n",
       "    </tr>\n",
       "  </thead>\n",
       "  <tbody>\n",
       "    <tr>\n",
       "      <td>count</td>\n",
       "      <td>10360</td>\n",
       "      <td>10360</td>\n",
       "      <td>10356</td>\n",
       "    </tr>\n",
       "    <tr>\n",
       "      <td>unique</td>\n",
       "      <td>167</td>\n",
       "      <td>1</td>\n",
       "      <td>9461</td>\n",
       "    </tr>\n",
       "    <tr>\n",
       "      <td>top</td>\n",
       "      <td>HP-Graphics-14-inch-Windows-14s-dq2100TU</td>\n",
       "      <td>laptop</td>\n",
       "      <td>Good</td>\n",
       "    </tr>\n",
       "    <tr>\n",
       "      <td>freq</td>\n",
       "      <td>729</td>\n",
       "      <td>10360</td>\n",
       "      <td>130</td>\n",
       "    </tr>\n",
       "  </tbody>\n",
       "</table>\n",
       "</div>"
      ],
      "text/plain": [
       "                                    product_name product_category reviews\n",
       "count                                      10360            10360   10356\n",
       "unique                                       167                1    9461\n",
       "top     HP-Graphics-14-inch-Windows-14s-dq2100TU           laptop    Good\n",
       "freq                                         729            10360     130"
      ]
     },
     "execution_count": 187,
     "metadata": {},
     "output_type": "execute_result"
    }
   ],
   "source": [
    "df.describe(include = 'all')"
   ]
  },
  {
   "cell_type": "code",
   "execution_count": 188,
   "metadata": {},
   "outputs": [
    {
     "data": {
      "text/plain": [
       "product_name        0\n",
       "product_category    0\n",
       "reviews             4\n",
       "dtype: int64"
      ]
     },
     "execution_count": 188,
     "metadata": {},
     "output_type": "execute_result"
    }
   ],
   "source": [
    "df.isnull().sum()"
   ]
  },
  {
   "cell_type": "code",
   "execution_count": 189,
   "metadata": {},
   "outputs": [
    {
     "data": {
      "text/plain": [
       "Index(['product_name', 'product_category', 'reviews'], dtype='object')"
      ]
     },
     "execution_count": 189,
     "metadata": {},
     "output_type": "execute_result"
    }
   ],
   "source": [
    "df.columns"
   ]
  },
  {
   "cell_type": "code",
   "execution_count": 190,
   "metadata": {},
   "outputs": [],
   "source": [
    "df = df.dropna()"
   ]
  },
  {
   "cell_type": "code",
   "execution_count": 191,
   "metadata": {},
   "outputs": [
    {
     "data": {
      "text/plain": [
       "<vaderSentiment.vaderSentiment.SentimentIntensityAnalyzer at 0x13542cb6248>"
      ]
     },
     "execution_count": 191,
     "metadata": {},
     "output_type": "execute_result"
    }
   ],
   "source": [
    "senti = SentimentIntensityAnalyzer()\n",
    "senti"
   ]
  },
  {
   "cell_type": "code",
   "execution_count": 192,
   "metadata": {},
   "outputs": [],
   "source": [
    "def polarity_score(text, ptype = 'pos'):\n",
    "    score = senti.polarity_scores(text)\n",
    "    neg, neu, pos, compound = np.round([score['neg'], score['neu'], score['pos'], score['compound']], 2)\n",
    "    if ptype == 'pos': return pos\n",
    "    elif ptype == 'neg' : return neg\n",
    "    elif ptype == 'neu' : return neu\n",
    "    elif ptype == 'comp' : return compound\n",
    "    return pd.Series([neg, neu, pos, compound])\n",
    "\n",
    "def get_sentiment(compound):\n",
    "    if compound >= 0.05 : return 1\n",
    "    elif compound <= -0.05 : return -1\n",
    "    return 0\n",
    "\n",
    "def best_worst_rev(x):\n",
    "    pmax = x.pos.idxmax()\n",
    "    nmax = x.neg.idxmax()\n",
    "    best = x.reviews.loc[pmax]\n",
    "    worst = x.reviews.loc[nmax]\n",
    "    return pd.Series([best, worst])\n",
    "\n",
    "def less_rev(x, tol = 5):\n",
    "    # returns product name, product index, number of product reviews       \n",
    "    less_rev_col = [] \n",
    "    for i in x:\n",
    "        if i[1].shape[0] < tol:\n",
    "            less_rev_col.append((i[0], i[1].index, i[1].shape[0]))\n",
    "    \n",
    "    return less_rev_col"
   ]
  },
  {
   "cell_type": "code",
   "execution_count": 193,
   "metadata": {},
   "outputs": [
    {
     "data": {
      "text/html": [
       "<div>\n",
       "<style scoped>\n",
       "    .dataframe tbody tr th:only-of-type {\n",
       "        vertical-align: middle;\n",
       "    }\n",
       "\n",
       "    .dataframe tbody tr th {\n",
       "        vertical-align: top;\n",
       "    }\n",
       "\n",
       "    .dataframe thead th {\n",
       "        text-align: right;\n",
       "    }\n",
       "</style>\n",
       "<table border=\"1\" class=\"dataframe\">\n",
       "  <thead>\n",
       "    <tr style=\"text-align: right;\">\n",
       "      <th></th>\n",
       "      <th>product_name</th>\n",
       "      <th>product_category</th>\n",
       "      <th>reviews</th>\n",
       "    </tr>\n",
       "  </thead>\n",
       "  <tbody>\n",
       "    <tr>\n",
       "      <td>0</td>\n",
       "      <td>ASUS-15-6-inch-i5-10300H-SSDWindows-FX566LH-BQ...</td>\n",
       "      <td>laptop</td>\n",
       "      <td>Your browser does not support HTML5 video.  I ...</td>\n",
       "    </tr>\n",
       "    <tr>\n",
       "      <td>1</td>\n",
       "      <td>ASUS-15-6-inch-i5-10300H-SSDWindows-FX566LH-BQ...</td>\n",
       "      <td>laptop</td>\n",
       "      <td>OVERALL BANG FOR BUCK......BEST VFM Display :-...</td>\n",
       "    </tr>\n",
       "    <tr>\n",
       "      <td>2</td>\n",
       "      <td>ASUS-15-6-inch-i5-10300H-SSDWindows-FX566LH-BQ...</td>\n",
       "      <td>laptop</td>\n",
       "      <td>Spec - 4/5 Build- 4/5 Display-4/5 Overall it’s...</td>\n",
       "    </tr>\n",
       "    <tr>\n",
       "      <td>3</td>\n",
       "      <td>ASUS-15-6-inch-i5-10300H-SSDWindows-FX566LH-BQ...</td>\n",
       "      <td>laptop</td>\n",
       "      <td>1 Star for Amazon packaging, and 5 Star for pr...</td>\n",
       "    </tr>\n",
       "    <tr>\n",
       "      <td>4</td>\n",
       "      <td>ASUS-15-6-inch-i5-10300H-SSDWindows-FX566LH-BQ...</td>\n",
       "      <td>laptop</td>\n",
       "      <td>Your browser does not support HTML5 video.  I ...</td>\n",
       "    </tr>\n",
       "  </tbody>\n",
       "</table>\n",
       "</div>"
      ],
      "text/plain": [
       "                                        product_name product_category  \\\n",
       "0  ASUS-15-6-inch-i5-10300H-SSDWindows-FX566LH-BQ...           laptop   \n",
       "1  ASUS-15-6-inch-i5-10300H-SSDWindows-FX566LH-BQ...           laptop   \n",
       "2  ASUS-15-6-inch-i5-10300H-SSDWindows-FX566LH-BQ...           laptop   \n",
       "3  ASUS-15-6-inch-i5-10300H-SSDWindows-FX566LH-BQ...           laptop   \n",
       "4  ASUS-15-6-inch-i5-10300H-SSDWindows-FX566LH-BQ...           laptop   \n",
       "\n",
       "                                             reviews  \n",
       "0  Your browser does not support HTML5 video.  I ...  \n",
       "1  OVERALL BANG FOR BUCK......BEST VFM Display :-...  \n",
       "2  Spec - 4/5 Build- 4/5 Display-4/5 Overall it’s...  \n",
       "3  1 Star for Amazon packaging, and 5 Star for pr...  \n",
       "4  Your browser does not support HTML5 video.  I ...  "
      ]
     },
     "execution_count": 193,
     "metadata": {},
     "output_type": "execute_result"
    }
   ],
   "source": [
    "df.head()"
   ]
  },
  {
   "cell_type": "code",
   "execution_count": 194,
   "metadata": {},
   "outputs": [
    {
     "data": {
      "text/plain": [
       "[('ASUS-Dash-F15-15-6-inch-i7-11370H-FX516PC-HN063T',\n",
       "  Int64Index([6245], dtype='int64'),\n",
       "  1),\n",
       " ('ASUS-VivoBook-14-0-inch-i5-1035G1-X415JF-EB522TS',\n",
       "  Int64Index([7617], dtype='int64'),\n",
       "  1),\n",
       " ('ASUS-VivoBook-15-6-inch-Integrated-M513IA-BQ512TS',\n",
       "  Int64Index([4397, 4398], dtype='int64'),\n",
       "  2),\n",
       " ('ASUS-VivoBook-i3-1115G4-Integrated-X415EA-EK342TS',\n",
       "  Int64Index([4989, 4990, 4991, 4992], dtype='int64'),\n",
       "  4),\n",
       " ('ASUS-VivoBook14-Integrated-14-1-inch-M415DA-EB502TS',\n",
       "  Int64Index([6926, 6927, 6928], dtype='int64'),\n",
       "  3),\n",
       " ('Acer-Aspire-Intel-Generation-39-62',\n",
       "  Int64Index([7943, 7944], dtype='int64'),\n",
       "  2),\n",
       " ('Dell-Inspiron-3505-Integrated-D560361WIN9B',\n",
       "  Int64Index([5613, 5614], dtype='int64'),\n",
       "  2),\n",
       " ('Dell-Vostro-5415-Integrated-D552192WIN9S',\n",
       "  Int64Index([9586, 9587, 9588, 9591], dtype='int64'),\n",
       "  4),\n",
       " ('Dell-i3-1005G1-Display-D552151WIN9BE-Wireless',\n",
       "  Int64Index([4993], dtype='int64'),\n",
       "  1),\n",
       " ('HP-255-G8-3K1G7PA-Graphics',\n",
       "  Int64Index([7550, 7551, 7552], dtype='int64'),\n",
       "  3),\n",
       " ('HP-Pavilion-Processor-15-6-inch-15-dk1146TX',\n",
       "  Int64Index([4699, 4700, 4701, 4702], dtype='int64'),\n",
       "  4),\n",
       " ('Lenovo-14-inch-Laptop-Windows-81YA002GIH',\n",
       "  Int64Index([9845, 9916], dtype='int64'),\n",
       "  2),\n",
       " ('Lenovo-15-6-inch-Integrated-Graphics-82C700JCIH',\n",
       "  Int64Index([6246, 6247, 6248, 6249], dtype='int64'),\n",
       "  4),\n",
       " ('Lenovo-IdeaPad-Fingerprint-Graphite-82FG010AIN',\n",
       "  Int64Index([9943, 9944], dtype='int64'),\n",
       "  2),\n",
       " ('Lenovo-IdeaPad-Keyboard-Warranty-82H80156IN',\n",
       "  Int64Index([1937, 1938, 1939, 1940], dtype='int64'),\n",
       "  4),\n",
       " ('Lenovo-Ideapad-Windows-Graphics-81Y400E1IN',\n",
       "  Int64Index([6323, 6324], dtype='int64'),\n",
       "  2),\n",
       " ('Lenovo-V15-ADA-82C700H4IH-Laptop-Graphics',\n",
       "  Int64Index([9374, 9375], dtype='int64'),\n",
       "  2),\n",
       " ('Vivobook-M515DA-BQ512TS-Laptop-Ryzen-Windows',\n",
       "  Int64Index([7534, 7535, 7536, 7537], dtype='int64'),\n",
       "  4)]"
      ]
     },
     "execution_count": 194,
     "metadata": {},
     "output_type": "execute_result"
    }
   ],
   "source": [
    "low_reviews = less_rev(df.groupby('product_name'))\n",
    "low_reviews"
   ]
  },
  {
   "cell_type": "markdown",
   "metadata": {},
   "source": [
    "#### the above products have reviews less than 5 so lets drop them "
   ]
  },
  {
   "cell_type": "code",
   "execution_count": 195,
   "metadata": {},
   "outputs": [],
   "source": [
    "less_rev_cols = list(zip(*less_rev(df.groupby('product_name'))))[1]\n",
    "less_rev_idx = []\n",
    "for i in less_rev_cols:\n",
    "    less_rev_idx += i.values.tolist() "
   ]
  },
  {
   "cell_type": "code",
   "execution_count": 196,
   "metadata": {},
   "outputs": [
    {
     "data": {
      "text/plain": [
       "(10309, 3)"
      ]
     },
     "execution_count": 196,
     "metadata": {},
     "output_type": "execute_result"
    }
   ],
   "source": [
    "df = df.drop(less_rev_idx)\n",
    "df.shape"
   ]
  },
  {
   "cell_type": "code",
   "execution_count": 197,
   "metadata": {},
   "outputs": [],
   "source": [
    "df[['neg', 'neu', 'pos', 'total']] = df.reviews.apply(lambda x : polarity_score(x, 'all'))"
   ]
  },
  {
   "cell_type": "code",
   "execution_count": 198,
   "metadata": {},
   "outputs": [],
   "source": [
    "df['sentiment'] = df.total.apply(get_sentiment)"
   ]
  },
  {
   "cell_type": "code",
   "execution_count": 199,
   "metadata": {},
   "outputs": [
    {
     "data": {
      "text/html": [
       "<div>\n",
       "<style scoped>\n",
       "    .dataframe tbody tr th:only-of-type {\n",
       "        vertical-align: middle;\n",
       "    }\n",
       "\n",
       "    .dataframe tbody tr th {\n",
       "        vertical-align: top;\n",
       "    }\n",
       "\n",
       "    .dataframe thead th {\n",
       "        text-align: right;\n",
       "    }\n",
       "</style>\n",
       "<table border=\"1\" class=\"dataframe\">\n",
       "  <thead>\n",
       "    <tr style=\"text-align: right;\">\n",
       "      <th></th>\n",
       "      <th>product_name</th>\n",
       "      <th>product_category</th>\n",
       "      <th>reviews</th>\n",
       "      <th>neg</th>\n",
       "      <th>neu</th>\n",
       "      <th>pos</th>\n",
       "      <th>total</th>\n",
       "      <th>sentiment</th>\n",
       "    </tr>\n",
       "  </thead>\n",
       "  <tbody>\n",
       "    <tr>\n",
       "      <td>0</td>\n",
       "      <td>ASUS-15-6-inch-i5-10300H-SSDWindows-FX566LH-BQ...</td>\n",
       "      <td>laptop</td>\n",
       "      <td>Your browser does not support HTML5 video.  I ...</td>\n",
       "      <td>0.08</td>\n",
       "      <td>0.89</td>\n",
       "      <td>0.03</td>\n",
       "      <td>-0.39</td>\n",
       "      <td>-1</td>\n",
       "    </tr>\n",
       "    <tr>\n",
       "      <td>1</td>\n",
       "      <td>ASUS-15-6-inch-i5-10300H-SSDWindows-FX566LH-BQ...</td>\n",
       "      <td>laptop</td>\n",
       "      <td>OVERALL BANG FOR BUCK......BEST VFM Display :-...</td>\n",
       "      <td>0.02</td>\n",
       "      <td>0.91</td>\n",
       "      <td>0.07</td>\n",
       "      <td>0.74</td>\n",
       "      <td>1</td>\n",
       "    </tr>\n",
       "    <tr>\n",
       "      <td>2</td>\n",
       "      <td>ASUS-15-6-inch-i5-10300H-SSDWindows-FX566LH-BQ...</td>\n",
       "      <td>laptop</td>\n",
       "      <td>Spec - 4/5 Build- 4/5 Display-4/5 Overall it’s...</td>\n",
       "      <td>0.00</td>\n",
       "      <td>0.73</td>\n",
       "      <td>0.27</td>\n",
       "      <td>0.97</td>\n",
       "      <td>1</td>\n",
       "    </tr>\n",
       "    <tr>\n",
       "      <td>3</td>\n",
       "      <td>ASUS-15-6-inch-i5-10300H-SSDWindows-FX566LH-BQ...</td>\n",
       "      <td>laptop</td>\n",
       "      <td>1 Star for Amazon packaging, and 5 Star for pr...</td>\n",
       "      <td>0.00</td>\n",
       "      <td>0.97</td>\n",
       "      <td>0.03</td>\n",
       "      <td>0.38</td>\n",
       "      <td>1</td>\n",
       "    </tr>\n",
       "    <tr>\n",
       "      <td>4</td>\n",
       "      <td>ASUS-15-6-inch-i5-10300H-SSDWindows-FX566LH-BQ...</td>\n",
       "      <td>laptop</td>\n",
       "      <td>Your browser does not support HTML5 video.  I ...</td>\n",
       "      <td>0.08</td>\n",
       "      <td>0.89</td>\n",
       "      <td>0.03</td>\n",
       "      <td>-0.39</td>\n",
       "      <td>-1</td>\n",
       "    </tr>\n",
       "  </tbody>\n",
       "</table>\n",
       "</div>"
      ],
      "text/plain": [
       "                                        product_name product_category  \\\n",
       "0  ASUS-15-6-inch-i5-10300H-SSDWindows-FX566LH-BQ...           laptop   \n",
       "1  ASUS-15-6-inch-i5-10300H-SSDWindows-FX566LH-BQ...           laptop   \n",
       "2  ASUS-15-6-inch-i5-10300H-SSDWindows-FX566LH-BQ...           laptop   \n",
       "3  ASUS-15-6-inch-i5-10300H-SSDWindows-FX566LH-BQ...           laptop   \n",
       "4  ASUS-15-6-inch-i5-10300H-SSDWindows-FX566LH-BQ...           laptop   \n",
       "\n",
       "                                             reviews   neg   neu   pos  total  \\\n",
       "0  Your browser does not support HTML5 video.  I ...  0.08  0.89  0.03  -0.39   \n",
       "1  OVERALL BANG FOR BUCK......BEST VFM Display :-...  0.02  0.91  0.07   0.74   \n",
       "2  Spec - 4/5 Build- 4/5 Display-4/5 Overall it’s...  0.00  0.73  0.27   0.97   \n",
       "3  1 Star for Amazon packaging, and 5 Star for pr...  0.00  0.97  0.03   0.38   \n",
       "4  Your browser does not support HTML5 video.  I ...  0.08  0.89  0.03  -0.39   \n",
       "\n",
       "   sentiment  \n",
       "0         -1  \n",
       "1          1  \n",
       "2          1  \n",
       "3          1  \n",
       "4         -1  "
      ]
     },
     "execution_count": 199,
     "metadata": {},
     "output_type": "execute_result"
    }
   ],
   "source": [
    "df.head()"
   ]
  },
  {
   "cell_type": "code",
   "execution_count": 200,
   "metadata": {},
   "outputs": [],
   "source": [
    "# df.groupby('product_name').apply(best_worst_rev)"
   ]
  },
  {
   "cell_type": "markdown",
   "metadata": {},
   "source": [
    "#### now let's get the most positive and negative review for each product also get the mean pos and neg score"
   ]
  },
  {
   "cell_type": "code",
   "execution_count": 201,
   "metadata": {},
   "outputs": [
    {
     "data": {
      "text/html": [
       "<div>\n",
       "<style scoped>\n",
       "    .dataframe tbody tr th:only-of-type {\n",
       "        vertical-align: middle;\n",
       "    }\n",
       "\n",
       "    .dataframe tbody tr th {\n",
       "        vertical-align: top;\n",
       "    }\n",
       "\n",
       "    .dataframe thead th {\n",
       "        text-align: right;\n",
       "    }\n",
       "</style>\n",
       "<table border=\"1\" class=\"dataframe\">\n",
       "  <thead>\n",
       "    <tr style=\"text-align: right;\">\n",
       "      <th></th>\n",
       "      <th>neg</th>\n",
       "      <th>neu</th>\n",
       "      <th>pos</th>\n",
       "      <th>total</th>\n",
       "      <th>sentiment</th>\n",
       "      <th>top_pos_rev</th>\n",
       "      <th>top_neg_rev</th>\n",
       "    </tr>\n",
       "    <tr>\n",
       "      <th>product_name</th>\n",
       "      <th></th>\n",
       "      <th></th>\n",
       "      <th></th>\n",
       "      <th></th>\n",
       "      <th></th>\n",
       "      <th></th>\n",
       "      <th></th>\n",
       "    </tr>\n",
       "  </thead>\n",
       "  <tbody>\n",
       "    <tr>\n",
       "      <td>3593-15-6-inch-i5-1035G1-Microsoft-Integrated</td>\n",
       "      <td>0.046275</td>\n",
       "      <td>0.654902</td>\n",
       "      <td>0.298235</td>\n",
       "      <td>0.387059</td>\n",
       "      <td>1</td>\n",
       "      <td>Excellent.</td>\n",
       "      <td>Cheated us its WiFi is not working. CC is talk...</td>\n",
       "    </tr>\n",
       "    <tr>\n",
       "      <td>ASUS-15-6-inch-RTX-3050-Graphics-FA506IC-HN005T</td>\n",
       "      <td>0.068077</td>\n",
       "      <td>0.748077</td>\n",
       "      <td>0.184231</td>\n",
       "      <td>0.578077</td>\n",
       "      <td>1</td>\n",
       "      <td>Your browser does not support HTML5 video.  Wo...</td>\n",
       "      <td>Your browser does not support HTML5 video.</td>\n",
       "    </tr>\n",
       "    <tr>\n",
       "      <td>ASUS-15-6-inch-i5-10300H-SSDWindows-FX566LH-BQ275T</td>\n",
       "      <td>0.054362</td>\n",
       "      <td>0.665885</td>\n",
       "      <td>0.279918</td>\n",
       "      <td>0.408930</td>\n",
       "      <td>1</td>\n",
       "      <td>Super</td>\n",
       "      <td>Battery is bad</td>\n",
       "    </tr>\n",
       "    <tr>\n",
       "      <td>ASUS-E410MA-EK319T-Pentium-NumberPad-Warranty</td>\n",
       "      <td>0.107000</td>\n",
       "      <td>0.606667</td>\n",
       "      <td>0.287333</td>\n",
       "      <td>0.350000</td>\n",
       "      <td>1</td>\n",
       "      <td>Value worth</td>\n",
       "      <td>No</td>\n",
       "    </tr>\n",
       "    <tr>\n",
       "      <td>ASUS-VivoBook-15-6-inch-Integrated-KM513UA-BQ513TS</td>\n",
       "      <td>0.060000</td>\n",
       "      <td>0.741000</td>\n",
       "      <td>0.200000</td>\n",
       "      <td>0.499000</td>\n",
       "      <td>1</td>\n",
       "      <td>Only brightness must be more. Performance of l...</td>\n",
       "      <td>Your browser does not support HTML5 video.  My...</td>\n",
       "    </tr>\n",
       "  </tbody>\n",
       "</table>\n",
       "</div>"
      ],
      "text/plain": [
       "                                                         neg       neu  \\\n",
       "product_name                                                             \n",
       "3593-15-6-inch-i5-1035G1-Microsoft-Integrated       0.046275  0.654902   \n",
       "ASUS-15-6-inch-RTX-3050-Graphics-FA506IC-HN005T     0.068077  0.748077   \n",
       "ASUS-15-6-inch-i5-10300H-SSDWindows-FX566LH-BQ275T  0.054362  0.665885   \n",
       "ASUS-E410MA-EK319T-Pentium-NumberPad-Warranty       0.107000  0.606667   \n",
       "ASUS-VivoBook-15-6-inch-Integrated-KM513UA-BQ513TS  0.060000  0.741000   \n",
       "\n",
       "                                                         pos     total  \\\n",
       "product_name                                                             \n",
       "3593-15-6-inch-i5-1035G1-Microsoft-Integrated       0.298235  0.387059   \n",
       "ASUS-15-6-inch-RTX-3050-Graphics-FA506IC-HN005T     0.184231  0.578077   \n",
       "ASUS-15-6-inch-i5-10300H-SSDWindows-FX566LH-BQ275T  0.279918  0.408930   \n",
       "ASUS-E410MA-EK319T-Pentium-NumberPad-Warranty       0.287333  0.350000   \n",
       "ASUS-VivoBook-15-6-inch-Integrated-KM513UA-BQ513TS  0.200000  0.499000   \n",
       "\n",
       "                                                    sentiment  \\\n",
       "product_name                                                    \n",
       "3593-15-6-inch-i5-1035G1-Microsoft-Integrated               1   \n",
       "ASUS-15-6-inch-RTX-3050-Graphics-FA506IC-HN005T             1   \n",
       "ASUS-15-6-inch-i5-10300H-SSDWindows-FX566LH-BQ275T          1   \n",
       "ASUS-E410MA-EK319T-Pentium-NumberPad-Warranty               1   \n",
       "ASUS-VivoBook-15-6-inch-Integrated-KM513UA-BQ513TS          1   \n",
       "\n",
       "                                                                                          top_pos_rev  \\\n",
       "product_name                                                                                            \n",
       "3593-15-6-inch-i5-1035G1-Microsoft-Integrated                                              Excellent.   \n",
       "ASUS-15-6-inch-RTX-3050-Graphics-FA506IC-HN005T     Your browser does not support HTML5 video.  Wo...   \n",
       "ASUS-15-6-inch-i5-10300H-SSDWindows-FX566LH-BQ275T                                              Super   \n",
       "ASUS-E410MA-EK319T-Pentium-NumberPad-Warranty                                             Value worth   \n",
       "ASUS-VivoBook-15-6-inch-Integrated-KM513UA-BQ513TS  Only brightness must be more. Performance of l...   \n",
       "\n",
       "                                                                                          top_neg_rev  \n",
       "product_name                                                                                           \n",
       "3593-15-6-inch-i5-1035G1-Microsoft-Integrated       Cheated us its WiFi is not working. CC is talk...  \n",
       "ASUS-15-6-inch-RTX-3050-Graphics-FA506IC-HN005T            Your browser does not support HTML5 video.  \n",
       "ASUS-15-6-inch-i5-10300H-SSDWindows-FX566LH-BQ275T                                     Battery is bad  \n",
       "ASUS-E410MA-EK319T-Pentium-NumberPad-Warranty                                                      No  \n",
       "ASUS-VivoBook-15-6-inch-Integrated-KM513UA-BQ513TS  Your browser does not support HTML5 video.  My...  "
      ]
     },
     "execution_count": 201,
     "metadata": {},
     "output_type": "execute_result"
    }
   ],
   "source": [
    "new_df = df.groupby('product_name')[['neg','neu','pos','total']].apply(np.mean)\n",
    "new_df['sentiment'] = new_df.total.apply(get_sentiment)\n",
    "new_df[['top_pos_rev', 'top_neg_rev']] = df.groupby('product_name').apply(best_worst_rev)\n",
    "new_df.head()"
   ]
  },
  {
   "cell_type": "code",
   "execution_count": 202,
   "metadata": {},
   "outputs": [
    {
     "data": {
      "image/png": "[encoded data removed]",
      "text/plain": [
       "<Figure size 432x288 with 1 Axes>"
      ]
     },
     "metadata": {
      "needs_background": "light"
     },
     "output_type": "display_data"
    }
   ],
   "source": [
    "sns.countplot(new_df.sentiment);"
   ]
  },
  {
   "cell_type": "markdown",
   "metadata": {},
   "source": [
    "#### let's see top positive and negative reviews for product that's hated by majority of the people"
   ]
  },
  {
   "cell_type": "code",
   "execution_count": 208,
   "metadata": {},
   "outputs": [
    {
     "name": "stdout",
     "output_type": "stream",
     "text": [
      "======== Acer-Aspire-Generation-Processor-15-6-inch ========\n",
      "\n",
      "Positive review : \n",
      "\n",
      "Received promptly on time. Laptop is working nice. Seller is highly reputed. No issues so far. Product is really good.\n",
      "\n",
      "Negative review : \n",
      "\n",
      "Worst product, the hard disc is not working within 10 days of purchase, service of the Company is poor not responding and attending the problem. Recommended, not to buy the product.\n",
      "\n",
      "========== Dell-Latitude-3510-i3-10110U-Warranty ===========\n",
      "\n",
      "Positive review : \n",
      "\n",
      "Look wise its good. Performance is fine for business purposes its getting heated beside the touch pad on top. Lite weight and screen view and camera is good.\n",
      "\n",
      "Negative review : \n",
      "\n",
      "Performance is good but sound quality is bad\n",
      "\n",
      "======== Dell-i3-1125G4-Inspiron-5410-D560531WIN9S =========\n",
      "\n",
      "Positive review : \n",
      "\n",
      "Overall awesome\n",
      "\n",
      "Negative review : \n",
      "\n",
      "Disappointed, slowest speed I seen ever, sigma dealer in Lko has poor performance , battery lost within 1yr, never buy\n",
      "\n",
      "======== HP-Processor-15-6-inch-Laptop-15s-fq2071TU ========\n",
      "\n",
      "Positive review : \n",
      "\n",
      "Fast delivery, Nicely packed, No dents.. Fine experience 😀👍Product is also good and as with mentioned specifications 👍 Go for it... if the specifications meets your requirements 😀\n",
      "\n",
      "Negative review : \n",
      "\n",
      "I received damaged product\n",
      "\n",
      "======== Lenovo-E41-45-82BFS00300-A9-9425-Warranty =========\n",
      "\n",
      "Positive review : \n",
      "\n",
      "It's ok in price range\n",
      "\n",
      "Negative review : \n",
      "\n",
      "Very disappointed with the product delivered. Camera was damaged.\n",
      "\n",
      "========= Lenovo-Ideapad-Laptop-Windows-81W100HHIN =========\n",
      "\n",
      "Positive review : \n",
      "\n",
      "A laptop which I really want..this is that. Best price. I upgraded ram in SSD Form...best speed.. No worry...no hasitation. Best lapy for daily use...\n",
      "\n",
      "Negative review : \n",
      "\n",
      "Worst quality\n",
      "\n",
      "======== Lenovo-Ideapad-Windows-Platinum-81WE00RCIN ========\n",
      "\n",
      "Positive review : \n",
      "\n",
      "Like\n",
      "\n",
      "Negative review : \n",
      "\n",
      "Pathetic 😠\n",
      "\n",
      "========== Lenovo-Intel-Laptop-Windows-82C500XWIH ==========\n",
      "\n",
      "Positive review : \n",
      "\n",
      "The system is very slow in the beginning...hangs in between...speaker out put is low...Not as per excitement at the time of purchase...but good for normal use. ...\n",
      "\n",
      "Negative review : \n",
      "\n",
      "Worst\n",
      "\n"
     ]
    }
   ],
   "source": [
    "for i in new_df[['top_pos_rev','top_neg_rev']][new_df.sentiment == -1].index:\n",
    "    print(f' {i} '.center(60, '='))\n",
    "    print('\\nPositive review : \\n')\n",
    "    print(new_df.loc[i, 'top_pos_rev'])\n",
    "    print('\\nNegative review : \\n')\n",
    "    print(new_df.loc[i, 'top_neg_rev'])\n",
    "    print()"
   ]
  },
  {
   "cell_type": "code",
   "execution_count": null,
   "metadata": {},
   "outputs": [],
   "source": []
  }
 ],
 "metadata": {
  "kernelspec": {
   "display_name": "Python 3",
   "language": "python",
   "name": "python3"
  },
  "language_info": {
   "codemirror_mode": {
    "name": "ipython",
    "version": 3
   },
   "file_extension": ".py",
   "mimetype": "text/x-python",
   "name": "python",
   "nbconvert_exporter": "python",
   "pygments_lexer": "ipython3",
   "version": "3.7.4"
  }
 },
 "nbformat": 4,
 "nbformat_minor": 2
}
